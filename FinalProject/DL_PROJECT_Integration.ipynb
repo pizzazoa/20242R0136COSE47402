{
  "cells": [
    {
      "cell_type": "markdown",
      "metadata": {
        "id": "jB-v3mjKRKe6"
      },
      "source": [
        "## Preparation"
      ]
    },
    {
      "cell_type": "code",
      "execution_count": 273,
      "metadata": {
        "colab": {
          "base_uri": "https://localhost:8080/"
        },
        "id": "O8eAT4WERFME",
        "outputId": "2fc4b92f-5aa6-4bfd-f23e-ab7c22309d88"
      },
      "outputs": [
        {
          "output_type": "stream",
          "name": "stdout",
          "text": [
            "Drive already mounted at /content/drive; to attempt to forcibly remount, call drive.mount(\"/content/drive\", force_remount=True).\n"
          ]
        }
      ],
      "source": [
        "from google.colab import drive\n",
        "drive.mount('/content/drive')"
      ]
    },
    {
      "cell_type": "code",
      "execution_count": 274,
      "metadata": {
        "colab": {
          "base_uri": "https://localhost:8080/"
        },
        "id": "R0_YNPK0RfEW",
        "outputId": "5b716bb7-d24a-4bee-ff9a-4eb0d0503400"
      },
      "outputs": [
        {
          "output_type": "stream",
          "name": "stdout",
          "text": [
            "Collecting git+https://github.com/openai/CLIP.git\n",
            "  Cloning https://github.com/openai/CLIP.git to /tmp/pip-req-build-4qwwjnff\n",
            "  Running command git clone --filter=blob:none --quiet https://github.com/openai/CLIP.git /tmp/pip-req-build-4qwwjnff\n",
            "  Resolved https://github.com/openai/CLIP.git to commit dcba3cb2e2827b402d2701e7e1c7d9fed8a20ef1\n",
            "  Preparing metadata (setup.py) ... \u001b[?25l\u001b[?25hdone\n",
            "Requirement already satisfied: ftfy in /usr/local/lib/python3.10/dist-packages (from clip==1.0) (6.3.1)\n",
            "Requirement already satisfied: packaging in /usr/local/lib/python3.10/dist-packages (from clip==1.0) (24.2)\n",
            "Requirement already satisfied: regex in /usr/local/lib/python3.10/dist-packages (from clip==1.0) (2024.9.11)\n",
            "Requirement already satisfied: tqdm in /usr/local/lib/python3.10/dist-packages (from clip==1.0) (4.66.6)\n",
            "Requirement already satisfied: torch in /usr/local/lib/python3.10/dist-packages (from clip==1.0) (2.5.1+cu121)\n",
            "Requirement already satisfied: torchvision in /usr/local/lib/python3.10/dist-packages (from clip==1.0) (0.20.1+cu121)\n",
            "Requirement already satisfied: wcwidth in /usr/local/lib/python3.10/dist-packages (from ftfy->clip==1.0) (0.2.13)\n",
            "Requirement already satisfied: filelock in /usr/local/lib/python3.10/dist-packages (from torch->clip==1.0) (3.16.1)\n",
            "Requirement already satisfied: typing-extensions>=4.8.0 in /usr/local/lib/python3.10/dist-packages (from torch->clip==1.0) (4.12.2)\n",
            "Requirement already satisfied: networkx in /usr/local/lib/python3.10/dist-packages (from torch->clip==1.0) (3.4.2)\n",
            "Requirement already satisfied: jinja2 in /usr/local/lib/python3.10/dist-packages (from torch->clip==1.0) (3.1.4)\n",
            "Requirement already satisfied: fsspec in /usr/local/lib/python3.10/dist-packages (from torch->clip==1.0) (2024.10.0)\n",
            "Requirement already satisfied: sympy==1.13.1 in /usr/local/lib/python3.10/dist-packages (from torch->clip==1.0) (1.13.1)\n",
            "Requirement already satisfied: mpmath<1.4,>=1.1.0 in /usr/local/lib/python3.10/dist-packages (from sympy==1.13.1->torch->clip==1.0) (1.3.0)\n",
            "Requirement already satisfied: numpy in /usr/local/lib/python3.10/dist-packages (from torchvision->clip==1.0) (1.26.4)\n",
            "Requirement already satisfied: pillow!=8.3.*,>=5.3.0 in /usr/local/lib/python3.10/dist-packages (from torchvision->clip==1.0) (11.0.0)\n",
            "Requirement already satisfied: MarkupSafe>=2.0 in /usr/local/lib/python3.10/dist-packages (from jinja2->torch->clip==1.0) (3.0.2)\n",
            "Requirement already satisfied: ftfy in /usr/local/lib/python3.10/dist-packages (6.3.1)\n",
            "Requirement already satisfied: regex in /usr/local/lib/python3.10/dist-packages (2024.9.11)\n",
            "Requirement already satisfied: tqdm in /usr/local/lib/python3.10/dist-packages (4.66.6)\n",
            "Requirement already satisfied: wcwidth in /usr/local/lib/python3.10/dist-packages (from ftfy) (0.2.13)\n",
            "Requirement already satisfied: transformers in /usr/local/lib/python3.10/dist-packages (4.46.3)\n",
            "Requirement already satisfied: filelock in /usr/local/lib/python3.10/dist-packages (from transformers) (3.16.1)\n",
            "Requirement already satisfied: huggingface-hub<1.0,>=0.23.2 in /usr/local/lib/python3.10/dist-packages (from transformers) (0.26.3)\n",
            "Requirement already satisfied: numpy>=1.17 in /usr/local/lib/python3.10/dist-packages (from transformers) (1.26.4)\n",
            "Requirement already satisfied: packaging>=20.0 in /usr/local/lib/python3.10/dist-packages (from transformers) (24.2)\n",
            "Requirement already satisfied: pyyaml>=5.1 in /usr/local/lib/python3.10/dist-packages (from transformers) (6.0.2)\n",
            "Requirement already satisfied: regex!=2019.12.17 in /usr/local/lib/python3.10/dist-packages (from transformers) (2024.9.11)\n",
            "Requirement already satisfied: requests in /usr/local/lib/python3.10/dist-packages (from transformers) (2.32.3)\n",
            "Requirement already satisfied: tokenizers<0.21,>=0.20 in /usr/local/lib/python3.10/dist-packages (from transformers) (0.20.3)\n",
            "Requirement already satisfied: safetensors>=0.4.1 in /usr/local/lib/python3.10/dist-packages (from transformers) (0.4.5)\n",
            "Requirement already satisfied: tqdm>=4.27 in /usr/local/lib/python3.10/dist-packages (from transformers) (4.66.6)\n",
            "Requirement already satisfied: fsspec>=2023.5.0 in /usr/local/lib/python3.10/dist-packages (from huggingface-hub<1.0,>=0.23.2->transformers) (2024.10.0)\n",
            "Requirement already satisfied: typing-extensions>=3.7.4.3 in /usr/local/lib/python3.10/dist-packages (from huggingface-hub<1.0,>=0.23.2->transformers) (4.12.2)\n",
            "Requirement already satisfied: charset-normalizer<4,>=2 in /usr/local/lib/python3.10/dist-packages (from requests->transformers) (3.4.0)\n",
            "Requirement already satisfied: idna<4,>=2.5 in /usr/local/lib/python3.10/dist-packages (from requests->transformers) (3.10)\n",
            "Requirement already satisfied: urllib3<3,>=1.21.1 in /usr/local/lib/python3.10/dist-packages (from requests->transformers) (2.2.3)\n",
            "Requirement already satisfied: certifi>=2017.4.17 in /usr/local/lib/python3.10/dist-packages (from requests->transformers) (2024.8.30)\n"
          ]
        }
      ],
      "source": [
        "!pip install git+https://github.com/openai/CLIP.git\n",
        "!pip install ftfy regex tqdm\n",
        "!pip install transformers"
      ]
    },
    {
      "cell_type": "code",
      "execution_count": 275,
      "metadata": {
        "id": "0oByod7aViTn"
      },
      "outputs": [],
      "source": [
        "import os\n",
        "import glob\n",
        "import torch\n",
        "import clip\n",
        "import torch.nn as nn\n",
        "import torch.nn.functional as F\n",
        "from PIL import Image\n",
        "from typing import List, Tuple, Optional\n",
        "from torch.utils.data import Dataset, DataLoader\n",
        "from torch.amp import autocast, GradScaler\n",
        "from torchvision import transforms\n",
        "from tqdm import tqdm\n",
        "from sklearn.metrics import accuracy_score, classification_report, confusion_matrix\n",
        "import seaborn as sns\n",
        "import matplotlib.pyplot as plt\n",
        "from dataclasses import dataclass\n",
        "from typing import List, Dict, Any, Optional\n",
        "from torch.optim import lr_scheduler\n"
      ]
    },
    {
      "cell_type": "code",
      "execution_count": 276,
      "metadata": {
        "id": "Z5w4UE4BVt3g"
      },
      "outputs": [],
      "source": [
        "# Common dataset class used across all methods\n",
        "class PersonalColorDataset(Dataset):\n",
        "    \"\"\"Dataset class for personal color classification.\"\"\"\n",
        "    def __init__(\n",
        "        self,\n",
        "        image_paths: List[str],\n",
        "        labels: List[int],\n",
        "        transform: Optional[transforms.Compose] = None,\n",
        "        augment: bool = False\n",
        "    ):\n",
        "        self.image_paths = image_paths\n",
        "        self.labels = labels\n",
        "        self.transform = transform\n",
        "        self.augment = augment\n",
        "\n",
        "        if augment:\n",
        "            self.color_aug = transforms.Compose([\n",
        "                transforms.ColorJitter(brightness=0.3, contrast=0.3, saturation=0.3, hue=0.1),\n",
        "                transforms.RandomAdjustSharpness(sharpness_factor=2, p=0.5),\n",
        "                transforms.RandomAutocontrast(p=0.5)\n",
        "            ])\n",
        "        else:\n",
        "            self.color_aug = None\n",
        "\n",
        "    def __len__(self) -> int:\n",
        "        return len(self.image_paths)\n",
        "\n",
        "    def __getitem__(self, idx: int) -> Tuple[torch.Tensor, int]:\n",
        "        image = Image.open(self.image_paths[idx]).convert('RGB')\n",
        "\n",
        "        if self.transform:\n",
        "            image = self.transform(image)\n",
        "            if self.augment and torch.rand(1) > 0.5:\n",
        "                image = self.color_aug(image)\n",
        "\n",
        "        return image, self.labels[idx]"
      ]
    },
    {
      "cell_type": "code",
      "execution_count": 277,
      "metadata": {
        "id": "oqmZAWQRVxYx"
      },
      "outputs": [],
      "source": [
        "# 베이스가 되는 분류기\n",
        "class BaseClassifier:\n",
        "    \"\"\"Base class for all CLIP-based classifiers.\"\"\"\n",
        "    def __init__(self, class_names: List[str], device: str):\n",
        "        self.class_names = class_names\n",
        "        self.device = device\n",
        "        self.model = None\n",
        "\n",
        "    def load_clip_model(self):\n",
        "        \"\"\"Load the base CLIP model.\"\"\"\n",
        "        model, preprocess = clip.load(\"ViT-B/32\", device=self.device)\n",
        "        return model, preprocess"
      ]
    },
    {
      "cell_type": "code",
      "execution_count": 302,
      "metadata": {
        "id": "vQ5WuvmrWRT9"
      },
      "outputs": [],
      "source": [
        "def evaluate_model(model, dataloader, device):\n",
        "    \"\"\"Evaluate model performance.\"\"\"\n",
        "    model.eval()\n",
        "    all_preds = []\n",
        "    all_labels = []\n",
        "\n",
        "    with torch.no_grad():\n",
        "        for images, labels in tqdm(dataloader, desc='Evaluating'):\n",
        "            images = images.to(device)\n",
        "            outputs = model(images)\n",
        "            preds = outputs.argmax(dim=1).cpu()\n",
        "            all_preds.extend(preds.numpy())\n",
        "            all_labels.extend(labels.numpy())\n",
        "\n",
        "    accuracy = accuracy_score(all_labels, all_preds)\n",
        "    report = classification_report(\n",
        "        all_labels, all_preds,\n",
        "        target_names=['spring', 'summer', 'fall', 'winter'],\n",
        "        zero_division=0\n",
        "    )\n",
        "    conf_matrix = confusion_matrix(all_labels, all_preds)\n",
        "\n",
        "    return accuracy, report, conf_matrix"
      ]
    },
    {
      "cell_type": "code",
      "execution_count": 279,
      "metadata": {
        "id": "RZaL3DxaWXJE"
      },
      "outputs": [],
      "source": [
        "def plot_confusion_matrix(conf_matrix, class_names):\n",
        "    \"\"\"Plot confusion matrix.\"\"\"\n",
        "    plt.figure(figsize=(10, 8))\n",
        "    sns.heatmap(conf_matrix, annot=True, fmt='d',\n",
        "                xticklabels=class_names,\n",
        "                yticklabels=class_names)\n",
        "    plt.title('Confusion Matrix')\n",
        "    plt.ylabel('True Label')\n",
        "    plt.xlabel('Predicted Label')\n",
        "    plt.show()"
      ]
    },
    {
      "cell_type": "code",
      "execution_count": 280,
      "metadata": {
        "id": "IcxWNYSsWX1L"
      },
      "outputs": [],
      "source": [
        "def get_data_loaders(dataset_dir: str, transform: transforms.Compose,\n",
        "                     batch_size: int = 32):\n",
        "    \"\"\"Create data loaders for training and validation.\"\"\"\n",
        "    dataset_types = ['train', 'test']\n",
        "    class_folders = ['spring', 'summer', 'fall', 'winter']\n",
        "\n",
        "    image_paths = {t: [] for t in dataset_types}\n",
        "    labels = {t: [] for t in dataset_types}\n",
        "\n",
        "    for dataset_type in dataset_types:\n",
        "        for idx, class_folder in enumerate(class_folders):\n",
        "            class_dir = os.path.join(dataset_dir, dataset_type, class_folder)\n",
        "            for img_path in glob.glob(os.path.join(class_dir, '*.*')):\n",
        "                if img_path.lower().endswith(('.jpg', '.jpeg', '.png')):\n",
        "                    image_paths[dataset_type].append(img_path)\n",
        "                    labels[dataset_type].append(idx)\n",
        "\n",
        "    datasets = {\n",
        "        t: PersonalColorDataset(\n",
        "            image_paths[t],\n",
        "            labels[t],\n",
        "            transform,\n",
        "            augment=(t == 'train')\n",
        "        ) for t in dataset_types\n",
        "    }\n",
        "\n",
        "    loaders = {\n",
        "        t: DataLoader(\n",
        "            datasets[t],\n",
        "            batch_size=batch_size,\n",
        "            shuffle=(t == 'train'),\n",
        "            num_workers=4,\n",
        "            pin_memory=True\n",
        "        ) for t in dataset_types\n",
        "    }\n",
        "\n",
        "    return loaders['train'], loaders['test']"
      ]
    },
    {
      "cell_type": "code",
      "execution_count": 281,
      "metadata": {
        "id": "tTwQ3S_6XLH4"
      },
      "outputs": [],
      "source": [
        "def get_base_transform():\n",
        "    return transforms.Compose([\n",
        "        transforms.Resize((224, 224)),\n",
        "        transforms.ToTensor(),\n",
        "        transforms.Normalize(\n",
        "            (0.48145466, 0.4578275, 0.40821073),\n",
        "            (0.26862954, 0.26130258, 0.27577711)\n",
        "        )\n",
        "    ])"
      ]
    },
    {
      "cell_type": "code",
      "execution_count": 282,
      "metadata": {
        "id": "WG-UYq89XLFN"
      },
      "outputs": [],
      "source": [
        "def get_training_transform():\n",
        "    return transforms.Compose([\n",
        "        transforms.RandomResizedCrop(224, scale=(0.7, 1.0)),\n",
        "        transforms.RandomHorizontalFlip(),\n",
        "        transforms.RandomRotation(15),\n",
        "        transforms.ColorJitter(0.3, 0.3, 0.3, 0.1),\n",
        "        transforms.ToTensor(),\n",
        "        transforms.Normalize(\n",
        "            (0.48145466, 0.4578275, 0.40821073),\n",
        "            (0.26862954, 0.26130258, 0.27577711)\n",
        "        )\n",
        "    ])"
      ]
    },
    {
      "cell_type": "code",
      "execution_count": 283,
      "metadata": {
        "id": "6scQDxw_XRPc"
      },
      "outputs": [],
      "source": [
        "@dataclass\n",
        "class Config:\n",
        "    \"\"\"Configuration for model training and evaluation.\"\"\"\n",
        "    data_dir: str = '/content/drive/Othercomputers/내 노트북/personal-color-data/'\n",
        "    method: str = 'cocoop'  # ['zeroshot', 'finetune', 'cocoop', 'ptuning', 'lora']\n",
        "    batch_size: int = 64\n",
        "    epochs: int = 10\n",
        "    lr: float = 1e-4\n",
        "    device: str = 'cuda' if torch.cuda.is_available() else 'cpu'"
      ]
    },
    {
      "cell_type": "code",
      "execution_count": 284,
      "metadata": {
        "id": "biqqknodYudZ"
      },
      "outputs": [],
      "source": [
        "def run_experiment(config: Config = None) -> Dict[str, Any]:\n",
        "    \"\"\"Run the selected experimental method.\"\"\"\n",
        "    if config is None:\n",
        "        config = Config()\n",
        "\n",
        "    # Method mapping\n",
        "    method_map = {\n",
        "        'zeroshot': run_zeroshot,\n",
        "        'finetune': run_finetune,\n",
        "        'cocoop': run_cocoop,\n",
        "        'ptuning': run_ptuning,\n",
        "        'lora': run_lora\n",
        "    }\n",
        "\n",
        "    if config.method not in method_map:\n",
        "        raise ValueError(f\"Method {config.method} not supported. Choose from {list(method_map.keys())}\")\n",
        "\n",
        "    # Run selected method\n",
        "    results = method_map[config.method](config)\n",
        "\n",
        "    # Print results\n",
        "    print(f\"\\nResults for {config.method.upper()}:\")\n",
        "    print(f\"Best Accuracy: {results.get('best_accuracy', results.get('accuracy')):.4f}\")\n",
        "    print(\"\\nClassification Report:\")\n",
        "    print(results['final_report' if 'final_report' in results else 'report'])\n",
        "\n",
        "    # Plot confusion matrix\n",
        "    plot_confusion_matrix(\n",
        "        results['final_conf_matrix' if 'final_conf_matrix' in results else 'conf_matrix'],\n",
        "        ['spring', 'summer', 'fall', 'winter']\n",
        "    )\n",
        "\n",
        "    return results"
      ]
    },
    {
      "cell_type": "code",
      "execution_count": 284,
      "metadata": {
        "id": "Xu2lJpK5YuIy"
      },
      "outputs": [],
      "source": []
    },
    {
      "cell_type": "markdown",
      "metadata": {
        "id": "EMSXCG4ARLv7"
      },
      "source": [
        "## Zeroshot"
      ]
    },
    {
      "cell_type": "code",
      "execution_count": 285,
      "metadata": {
        "id": "hPwoQy7qV1ON"
      },
      "outputs": [],
      "source": [
        "class ZeroShotCLIP(BaseClassifier, nn.Module):\n",
        "    \"\"\"Zero-shot CLIP classifier without any training.\"\"\"\n",
        "    def __init__(self, class_names: List[str], device: str):\n",
        "        BaseClassifier.__init__(self, class_names, device)\n",
        "        nn.Module.__init__(self)\n",
        "        self.model, _ = self.load_clip_model()\n",
        "        self.class_prompts = [\n",
        "            f'A portrait photo of a person with {name} color tone'\n",
        "            for name in class_names\n",
        "        ]\n",
        "        self.text_features = self._encode_text_prompts()\n",
        "\n",
        "    def _encode_text_prompts(self):\n",
        "        \"\"\"Pre-encode text prompts.\"\"\"\n",
        "        text_inputs = clip.tokenize(self.class_prompts).to(self.device)\n",
        "        with torch.no_grad():\n",
        "            text_features = self.model.encode_text(text_inputs)\n",
        "            text_features /= text_features.norm(dim=-1, keepdim=True)\n",
        "        return text_features\n",
        "\n",
        "    def forward(self, images: torch.Tensor) -> torch.Tensor:\n",
        "        \"\"\"Predict personal color categories.\"\"\"\n",
        "        with torch.no_grad():\n",
        "            image_features = self.model.encode_image(images)\n",
        "            image_features /= image_features.norm(dim=-1, keepdim=True)\n",
        "            logits = image_features @ self.text_features.t()\n",
        "        return logits"
      ]
    },
    {
      "cell_type": "code",
      "execution_count": 286,
      "metadata": {
        "id": "ahDavS51ZAfo"
      },
      "outputs": [],
      "source": [
        "def run_zeroshot(config: Config) -> Dict[str, Any]:\n",
        "    \"\"\"Zero-shot CLIP evaluation.\"\"\"\n",
        "    transform = get_base_transform()\n",
        "    train_loader, test_loader = get_data_loaders(\n",
        "        config.data_dir, transform, config.batch_size\n",
        "    )\n",
        "\n",
        "    class_names = ['spring', 'summer', 'fall', 'winter']\n",
        "    model = ZeroShotCLIP(class_names, config.device)\n",
        "\n",
        "    accuracy, report, conf_matrix = evaluate_model(model, test_loader, config.device)\n",
        "\n",
        "    return {\n",
        "        'accuracy': accuracy,\n",
        "        'report': report,\n",
        "        'conf_matrix': conf_matrix\n",
        "    }"
      ]
    },
    {
      "cell_type": "code",
      "execution_count": 286,
      "metadata": {
        "id": "p-wlAy-2ZWlj"
      },
      "outputs": [],
      "source": []
    },
    {
      "cell_type": "markdown",
      "metadata": {
        "id": "v95Br9dyROJ8"
      },
      "source": [
        "## Finetuning"
      ]
    },
    {
      "cell_type": "code",
      "execution_count": 297,
      "metadata": {
        "id": "pF4-8LZ1V4hh"
      },
      "outputs": [],
      "source": [
        "class FinetunedCLIP(BaseClassifier, nn.Module):\n",
        "    \"\"\"Finetuned CLIP classifier with a linear head.\"\"\"\n",
        "    def __init__(self, class_names: List[str], device: str):\n",
        "        BaseClassifier.__init__(self, class_names, device)\n",
        "        nn.Module.__init__(self)\n",
        "        clip_model, _ = self.load_clip_model()\n",
        "\n",
        "        # Convert clip model to float32\n",
        "        self.visual = clip_model.visual.float()\n",
        "        for param in self.visual.parameters():\n",
        "            param.data = param.data.float()\n",
        "\n",
        "        self.classifier = nn.Linear(clip_model.visual.output_dim, len(class_names))\n",
        "        self.to(device)\n",
        "\n",
        "    def forward(self, images: torch.Tensor) -> torch.Tensor:\n",
        "        # Ensure input is float32\n",
        "        images = images.float()\n",
        "        features = self.visual(images)\n",
        "        return self.classifier(features)\n",
        "\n",
        "    def train_step(self, images: torch.Tensor, labels: torch.Tensor) -> Tuple[torch.Tensor, torch.Tensor]:\n",
        "        logits = self.forward(images)\n",
        "        loss = F.cross_entropy(logits, labels)\n",
        "        return loss, logits"
      ]
    },
    {
      "cell_type": "code",
      "execution_count": 303,
      "metadata": {
        "id": "rTGOQGroXYEn"
      },
      "outputs": [],
      "source": [
        "def run_finetune(config: Config) -> Dict[str, Any]:\n",
        "    \"\"\"Finetuned CLIP training and evaluation.\"\"\"\n",
        "    # Data preparation\n",
        "    image_paths = {'train': [], 'test': []}\n",
        "    labels = {'train': [], 'test': []}\n",
        "\n",
        "    dataset_types = ['train', 'test']\n",
        "    class_folders = ['spring', 'summer', 'fall', 'winter']\n",
        "\n",
        "    for dataset_type in dataset_types:\n",
        "        for idx, class_folder in enumerate(class_folders):\n",
        "            class_dir = os.path.join(config.data_dir, dataset_type, class_folder)\n",
        "            if not os.path.exists(class_dir):\n",
        "                continue\n",
        "\n",
        "            for img_path in glob.glob(os.path.join(class_dir, '*.*')):\n",
        "                if img_path.lower().endswith(('.jpg', '.jpeg', '.png')):\n",
        "                    image_paths[dataset_type].append(img_path)\n",
        "                    labels[dataset_type].append(idx)\n",
        "\n",
        "    if len(image_paths['train']) == 0 or len(image_paths['test']) == 0:\n",
        "        raise ValueError(\"No images found in one or more splits. Please check the data directory.\")\n",
        "\n",
        "    train_transform = get_training_transform()\n",
        "    test_transform = get_base_transform()\n",
        "\n",
        "    train_dataset = PersonalColorDataset(\n",
        "        image_paths['train'],\n",
        "        labels['train'],\n",
        "        transform=train_transform,\n",
        "        augment=True\n",
        "    )\n",
        "    test_dataset = PersonalColorDataset(\n",
        "        image_paths['test'],\n",
        "        labels['test'],\n",
        "        transform=test_transform,\n",
        "        augment=False\n",
        "    )\n",
        "\n",
        "    train_loader = DataLoader(\n",
        "        train_dataset,\n",
        "        batch_size=config.batch_size,\n",
        "        shuffle=True,\n",
        "        num_workers=4,\n",
        "        pin_memory=True\n",
        "    )\n",
        "    test_loader = DataLoader(\n",
        "        test_dataset,\n",
        "        batch_size=config.batch_size,\n",
        "        shuffle=False,\n",
        "        num_workers=4,\n",
        "        pin_memory=True\n",
        "    )\n",
        "\n",
        "    class_names = ['spring', 'summer', 'fall', 'winter']\n",
        "    model = FinetunedCLIP(class_names, config.device)\n",
        "\n",
        "    optimizer = torch.optim.AdamW([\n",
        "        {'params': model.visual.parameters(), 'lr': config.lr * 0.1},\n",
        "        {'params': model.classifier.parameters(), 'lr': config.lr}\n",
        "    ])\n",
        "    scheduler = lr_scheduler.CosineAnnealingLR(optimizer, config.epochs)\n",
        "    criterion = nn.CrossEntropyLoss()\n",
        "\n",
        "    best_acc = 0.0\n",
        "    for epoch in range(config.epochs):\n",
        "        model.train()\n",
        "        for images, labels in train_loader:\n",
        "            images, labels = images.to(config.device), labels.to(config.device)\n",
        "\n",
        "            optimizer.zero_grad()\n",
        "            logits = model(images)\n",
        "            loss = criterion(logits, labels)\n",
        "            loss.backward()\n",
        "            torch.nn.utils.clip_grad_norm_(model.parameters(), max_norm=1.0)\n",
        "            optimizer.step()\n",
        "\n",
        "        scheduler.step()\n",
        "\n",
        "        accuracy, report, conf_matrix = evaluate_model(model, test_loader, config.device)\n",
        "        if accuracy > best_acc:\n",
        "            best_acc = accuracy\n",
        "            torch.save({\n",
        "                'epoch': epoch,\n",
        "                'model_state_dict': model.state_dict(),\n",
        "                'optimizer_state_dict': optimizer.state_dict(),\n",
        "                'accuracy': best_acc,\n",
        "            }, 'best_finetune_model.pth')\n",
        "\n",
        "    return {\n",
        "        'best_accuracy': best_acc,\n",
        "        'final_report': report,\n",
        "        'final_conf_matrix': conf_matrix\n",
        "    }"
      ]
    },
    {
      "cell_type": "code",
      "execution_count": 288,
      "metadata": {
        "id": "SU5Y9DBIS07o"
      },
      "outputs": [],
      "source": []
    },
    {
      "cell_type": "markdown",
      "metadata": {
        "id": "3ZyzrJ0ORQIZ"
      },
      "source": [
        "## CoCoOp"
      ]
    },
    {
      "cell_type": "code",
      "execution_count": 289,
      "metadata": {
        "id": "WDy0r2KxWDNF"
      },
      "outputs": [],
      "source": [
        "class CoCoOp(BaseClassifier, nn.Module):\n",
        "    \"\"\"Conditional Prompt Learning for CLIP.\"\"\"\n",
        "    def __init__(self, class_names: List[str], device: str, n_ctx: int = 16):\n",
        "        BaseClassifier.__init__(self, class_names, device)\n",
        "        nn.Module.__init__(self)\n",
        "        self.clip_model, _ = self.load_clip_model()\n",
        "        self.n_ctx = n_ctx\n",
        "        self.ctx_dim = self.clip_model.ln_final.weight.shape[0]\n",
        "\n",
        "        # Initialize meta network for prompt generation\n",
        "        self.meta_net = nn.Sequential(\n",
        "            nn.LayerNorm(self.ctx_dim),\n",
        "            nn.Linear(self.ctx_dim, self.ctx_dim * 4),\n",
        "            nn.GELU(),\n",
        "            nn.Dropout(0.1),\n",
        "            nn.Linear(self.ctx_dim * 4, self.ctx_dim),\n",
        "            nn.Dropout(0.1)\n",
        "        )\n",
        "\n",
        "        # Initialize learnable context\n",
        "        self.context = nn.Parameter(torch.randn(n_ctx, self.ctx_dim))\n",
        "\n",
        "        # Prepare text prompts\n",
        "        self.text_prompts = [f\"a photo of a person with {name} color tone\" for name in class_names]\n",
        "        self.tokenized_prompts = torch.cat([\n",
        "            clip.tokenize(prompt) for prompt in self.text_prompts\n",
        "        ]).to(device)\n",
        "\n",
        "    def forward(self, images: torch.Tensor) -> torch.Tensor:\n",
        "        batch_size = images.shape[0]\n",
        "\n",
        "        # Generate context vectors\n",
        "        context = self.meta_net(self.context)  # [n_ctx, ctx_dim]\n",
        "\n",
        "        # Get original text features\n",
        "        with torch.no_grad():\n",
        "            text_features = self.clip_model.encode_text(self.tokenized_prompts)\n",
        "            text_features = text_features / text_features.norm(dim=-1, keepdim=True)\n",
        "\n",
        "        # Get image features\n",
        "        image_features = self.clip_model.encode_image(images)\n",
        "        image_features = image_features / image_features.norm(dim=-1, keepdim=True)\n",
        "\n",
        "        # Compute similarity\n",
        "        logits = 100 * image_features @ text_features.t()\n",
        "        return logits"
      ]
    },
    {
      "cell_type": "code",
      "execution_count": 290,
      "metadata": {
        "id": "D8tIEFrSXcq-"
      },
      "outputs": [],
      "source": [
        "def run_cocoop(config: Config) -> Dict[str, Any]:\n",
        "    \"\"\"CoCoOp training and evaluation.\"\"\"\n",
        "    # 데이터 준비\n",
        "    image_paths = {'train': [], 'test': []}\n",
        "    labels = {'train': [], 'test': []}\n",
        "\n",
        "    dataset_types = ['train', 'test']\n",
        "    class_folders = ['spring', 'summer', 'fall', 'winter']\n",
        "\n",
        "    for dataset_type in dataset_types:\n",
        "        for idx, class_folder in enumerate(class_folders):\n",
        "            class_dir = os.path.join(config.data_dir, dataset_type, class_folder)\n",
        "            for img_path in glob.glob(os.path.join(class_dir, '*.*')):\n",
        "                if img_path.lower().endswith(('.jpg', '.jpeg', '.png')):\n",
        "                    image_paths[dataset_type].append(img_path)\n",
        "                    labels[dataset_type].append(idx)\n",
        "\n",
        "    # 데이터셋 생성\n",
        "    train_dataset = PersonalColorDataset(\n",
        "        image_paths=image_paths['train'],\n",
        "        labels=labels['train'],\n",
        "        transform=get_training_transform(),  # 여기서 직접 transform 생성\n",
        "        augment=True\n",
        "    )\n",
        "\n",
        "    test_dataset = PersonalColorDataset(\n",
        "        image_paths=image_paths['test'],\n",
        "        labels=labels['test'],\n",
        "        transform=get_base_transform(),  # 여기서 직접 transform 생성\n",
        "        augment=False\n",
        "    )\n",
        "\n",
        "    # 데이터로더 생성\n",
        "    train_loader = DataLoader(\n",
        "        train_dataset,\n",
        "        batch_size=config.batch_size,\n",
        "        shuffle=True,\n",
        "        num_workers=4,\n",
        "        pin_memory=True\n",
        "    )\n",
        "\n",
        "    test_loader = DataLoader(\n",
        "        test_dataset,\n",
        "        batch_size=config.batch_size,\n",
        "        shuffle=False,\n",
        "        num_workers=4,\n",
        "        pin_memory=True\n",
        "    )\n",
        "\n",
        "    class_names = ['spring', 'summer', 'fall', 'winter']\n",
        "    model = CoCoOp(class_names, config.device)\n",
        "\n",
        "    optimizer = torch.optim.AdamW([\n",
        "        {'params': model.meta_net.parameters(), 'lr': config.lr},\n",
        "        {'params': model.context, 'lr': config.lr * 5}\n",
        "    ])\n",
        "\n",
        "    scheduler = torch.optim.lr_scheduler.CosineAnnealingLR(\n",
        "        optimizer, T_max=config.epochs\n",
        "    )\n",
        "\n",
        "    best_acc = 0.0\n",
        "\n",
        "    for epoch in range(config.epochs):\n",
        "        model.train()\n",
        "        for images, labels in train_loader:\n",
        "            images, labels = images.to(config.device), labels.to(config.device)\n",
        "\n",
        "            optimizer.zero_grad()\n",
        "\n",
        "            # Forward pass\n",
        "            logits = model(images)\n",
        "            loss = F.cross_entropy(logits, labels)\n",
        "\n",
        "            # Backward pass\n",
        "            loss.backward()\n",
        "            optimizer.step()\n",
        "\n",
        "        scheduler.step()\n",
        "\n",
        "        accuracy, report, conf_matrix = evaluate_model(model, test_loader, config.device)\n",
        "        if accuracy > best_acc:\n",
        "            best_acc = accuracy\n",
        "            torch.save(model.state_dict(), 'best_cocoop_model.pth')\n",
        "\n",
        "    return {\n",
        "        'best_accuracy': best_acc,\n",
        "        'final_report': report,\n",
        "        'final_conf_matrix': conf_matrix\n",
        "    }"
      ]
    },
    {
      "cell_type": "code",
      "execution_count": 290,
      "metadata": {
        "id": "c0X54fcPSzeG"
      },
      "outputs": [],
      "source": []
    },
    {
      "cell_type": "markdown",
      "metadata": {
        "id": "7l45jdsmRTIR"
      },
      "source": [
        "## P-tuning v2"
      ]
    },
    {
      "cell_type": "code",
      "execution_count": 308,
      "metadata": {
        "id": "Wc-QvE5FWHrI"
      },
      "outputs": [],
      "source": [
        "class PTuningV2(BaseClassifier, nn.Module):\n",
        "    \"\"\"P-tuning v2 implementation for CLIP.\"\"\"\n",
        "    def __init__(self, class_names: List[str], device: str):\n",
        "        BaseClassifier.__init__(self, class_names, device)\n",
        "        nn.Module.__init__(self)\n",
        "        self.clip_model, _ = self.load_clip_model()\n",
        "        hidden_size = self.clip_model.visual.output_dim\n",
        "        self.prompt_encoder = self._build_prompt_encoder(hidden_size)\n",
        "        self.visual = self.clip_model.visual.float()\n",
        "        self.to(device)\n",
        "\n",
        "    def _build_prompt_encoder(self, hidden_size: int):\n",
        "        return nn.Sequential(\n",
        "            nn.Linear(hidden_size, hidden_size * 2),\n",
        "            nn.ReLU(),\n",
        "            nn.Linear(hidden_size * 2, hidden_size),\n",
        "            nn.LayerNorm(hidden_size)\n",
        "        )\n",
        "\n",
        "    def forward(self, images):\n",
        "        images = images.float()\n",
        "        features = self.visual(images)\n",
        "        prompted_features = self.prompt_encoder(features)\n",
        "        return prompted_features @ self.clip_model.text_projection.float().t()"
      ]
    },
    {
      "cell_type": "code",
      "execution_count": 292,
      "metadata": {
        "id": "i16lFIwAXlVT"
      },
      "outputs": [],
      "source": [
        "def run_ptuning(config: Config) -> Dict[str, Any]:\n",
        "    \"\"\"P-tuning v2 training and evaluation.\"\"\"\n",
        "    # 데이터 준비\n",
        "    image_paths = {'train': [], 'test': []}\n",
        "    labels = {'train': [], 'test': []}\n",
        "\n",
        "    dataset_types = ['train', 'test']\n",
        "    class_folders = ['spring', 'summer', 'fall', 'winter']\n",
        "\n",
        "    print(f\"Looking for data in: {config.data_dir}\")\n",
        "\n",
        "    for dataset_type in dataset_types:\n",
        "        for idx, class_folder in enumerate(class_folders):\n",
        "            class_dir = os.path.join(config.data_dir, dataset_type, class_folder)\n",
        "            print(f\"Checking directory: {class_dir}\")\n",
        "            if not os.path.exists(class_dir):\n",
        "                print(f\"Directory does not exist: {class_dir}\")\n",
        "                continue\n",
        "\n",
        "            for img_path in glob.glob(os.path.join(class_dir, '*.*')):\n",
        "                if img_path.lower().endswith(('.jpg', '.jpeg', '.png')):\n",
        "                    image_paths[dataset_type].append(img_path)\n",
        "                    labels[dataset_type].append(idx)\n",
        "\n",
        "    print(f\"Found {len(image_paths['train'])} training images\")\n",
        "    print(f\"Found {len(image_paths['test'])} test images\")\n",
        "\n",
        "    if len(image_paths['train']) == 0 or len(image_paths['test']) == 0:\n",
        "        raise ValueError(\"No images found in one or more splits. Please check the data directory.\")\n",
        "\n",
        "    train_transform = get_training_transform()\n",
        "    test_transform = get_base_transform()\n",
        "\n",
        "    train_dataset = PersonalColorDataset(\n",
        "        image_paths['train'],\n",
        "        labels['train'],\n",
        "        transform=train_transform,\n",
        "        augment=True\n",
        "    )\n",
        "    test_dataset = PersonalColorDataset(\n",
        "        image_paths['test'],\n",
        "        labels['test'],\n",
        "        transform=test_transform,\n",
        "        augment=False\n",
        "    )\n",
        "\n",
        "    train_loader = DataLoader(\n",
        "        train_dataset,\n",
        "        batch_size=config.batch_size,\n",
        "        shuffle=True,\n",
        "        num_workers=4,\n",
        "        pin_memory=True\n",
        "    )\n",
        "    test_loader = DataLoader(\n",
        "        test_dataset,\n",
        "        batch_size=config.batch_size,\n",
        "        shuffle=False,\n",
        "        num_workers=4,\n",
        "        pin_memory=True\n",
        "    )\n",
        "\n",
        "    class_names = ['spring', 'summer', 'fall', 'winter']\n",
        "    model = PTuningV2(class_names, config.device)\n",
        "\n",
        "    optimizer = torch.optim.AdamW(model.prompt_encoder.parameters(), lr=config.lr)\n",
        "    scheduler = lr_scheduler.CosineAnnealingLR(optimizer, config.epochs)\n",
        "\n",
        "    best_acc = 0.0\n",
        "    for epoch in range(config.epochs):\n",
        "        model.train()\n",
        "        for images, labels in train_loader:\n",
        "            images, labels = images.to(config.device), labels.to(config.device)\n",
        "\n",
        "            optimizer.zero_grad()\n",
        "            logits = model(images)\n",
        "            loss = F.cross_entropy(logits, labels)\n",
        "            loss.backward()\n",
        "            optimizer.step()\n",
        "\n",
        "        scheduler.step()\n",
        "\n",
        "        accuracy, report, conf_matrix = evaluate_model(model, test_loader, config.device)\n",
        "        if accuracy > best_acc:\n",
        "            best_acc = accuracy\n",
        "            torch.save(model.state_dict(), 'best_ptuning_model.pth')\n",
        "\n",
        "    return {\n",
        "        'best_accuracy': best_acc,\n",
        "        'final_report': report,\n",
        "        'final_conf_matrix': conf_matrix\n",
        "    }"
      ]
    },
    {
      "cell_type": "code",
      "execution_count": 292,
      "metadata": {
        "id": "Tn21DxGWTBOj"
      },
      "outputs": [],
      "source": []
    },
    {
      "cell_type": "markdown",
      "metadata": {
        "id": "6uccmygPRVj5"
      },
      "source": [
        "## 5. LoRA"
      ]
    },
    {
      "cell_type": "code",
      "execution_count": 315,
      "metadata": {
        "id": "x-f2M6leWLti"
      },
      "outputs": [],
      "source": [
        "class LoRA(BaseClassifier, nn.Module):\n",
        "    \"\"\"Low-Rank Adaptation for CLIP.\"\"\"\n",
        "    def __init__(self, class_names: List[str], device: str, rank: int = 4):\n",
        "        BaseClassifier.__init__(self, class_names, device)\n",
        "        nn.Module.__init__(self)\n",
        "        self.clip_model, _ = self.load_clip_model()\n",
        "        self.rank = rank\n",
        "        self.visual = self.clip_model.visual.float()\n",
        "        self.linear = nn.Linear(self.visual.output_dim, len(class_names))\n",
        "        self.lora_layers = self._initialize_lora_layers()\n",
        "        self.to(device)\n",
        "\n",
        "    def _initialize_lora_layers(self):\n",
        "        \"\"\"Initialize LoRA layers for attention modules.\"\"\"\n",
        "        lora_layers = {}\n",
        "        dim = self.visual.output_dim\n",
        "        for i in range(12):  # CLIP ViT-B/32 has 12 transformer blocks\n",
        "            lora_layers[f'block_{i}'] = nn.Sequential(\n",
        "                nn.Linear(dim, self.rank, bias=False),\n",
        "                nn.Linear(self.rank, dim, bias=False)\n",
        "            )\n",
        "            # Initialize to small random values\n",
        "            nn.init.normal_(lora_layers[f'block_{i}'][0].weight, std=0.02)\n",
        "            nn.init.zeros_(lora_layers[f'block_{i}'][1].weight)\n",
        "        return nn.ModuleDict(lora_layers)\n",
        "\n",
        "    def forward(self, images):\n",
        "        images = images.float()\n",
        "        features = self.visual(images)\n",
        "\n",
        "        # Add LoRA residual connections\n",
        "        for lora in self.lora_layers.values():\n",
        "            features = features + 0.1 * lora(features)  # Scale factor for stability\n",
        "\n",
        "        return self.linear(features)"
      ]
    },
    {
      "cell_type": "code",
      "execution_count": 294,
      "metadata": {
        "id": "iX-ASWnmXmj3"
      },
      "outputs": [],
      "source": [
        "def run_lora(config: Config) -> Dict[str, Any]:\n",
        "    \"\"\"LoRA training and evaluation.\"\"\"\n",
        "    # 데이터 준비\n",
        "    image_paths = {'train': [], 'test': []}\n",
        "    labels = {'train': [], 'test': []}\n",
        "\n",
        "    dataset_types = ['train', 'test']\n",
        "    class_folders = ['spring', 'summer', 'fall', 'winter']\n",
        "\n",
        "    print(f\"Looking for data in: {config.data_dir}\")\n",
        "\n",
        "    for dataset_type in dataset_types:\n",
        "        for idx, class_folder in enumerate(class_folders):\n",
        "            class_dir = os.path.join(config.data_dir, dataset_type, class_folder)\n",
        "            print(f\"Checking directory: {class_dir}\")\n",
        "            if not os.path.exists(class_dir):\n",
        "                print(f\"Directory does not exist: {class_dir}\")\n",
        "                continue\n",
        "\n",
        "            for img_path in glob.glob(os.path.join(class_dir, '*.*')):\n",
        "                if img_path.lower().endswith(('.jpg', '.jpeg', '.png')):\n",
        "                    image_paths[dataset_type].append(img_path)\n",
        "                    labels[dataset_type].append(idx)\n",
        "\n",
        "    print(f\"Found {len(image_paths['train'])} training images\")\n",
        "    print(f\"Found {len(image_paths['test'])} test images\")\n",
        "\n",
        "    if len(image_paths['train']) == 0 or len(image_paths['test']) == 0:\n",
        "        raise ValueError(\"No images found in one or more splits. Please check the data directory.\")\n",
        "\n",
        "    train_transform = get_training_transform()\n",
        "    test_transform = get_base_transform()\n",
        "\n",
        "    train_dataset = PersonalColorDataset(\n",
        "        image_paths['train'],\n",
        "        labels['train'],\n",
        "        transform=train_transform,\n",
        "        augment=True\n",
        "    )\n",
        "    test_dataset = PersonalColorDataset(\n",
        "        image_paths['test'],\n",
        "        labels['test'],\n",
        "        transform=test_transform,\n",
        "        augment=False\n",
        "    )\n",
        "\n",
        "    train_loader = DataLoader(\n",
        "        train_dataset,\n",
        "        batch_size=config.batch_size,\n",
        "        shuffle=True,\n",
        "        num_workers=4,\n",
        "        pin_memory=True\n",
        "    )\n",
        "    test_loader = DataLoader(\n",
        "        test_dataset,\n",
        "        batch_size=config.batch_size,\n",
        "        shuffle=False,\n",
        "        num_workers=4,\n",
        "        pin_memory=True\n",
        "    )\n",
        "\n",
        "    class_names = ['spring', 'summer', 'fall', 'winter']\n",
        "    model = LoRA(class_names, config.device)\n",
        "\n",
        "    optimizer = torch.optim.AdamW(\n",
        "        [p for n, p in model.named_parameters() if 'lora' in n],\n",
        "        lr=config.lr\n",
        "    )\n",
        "    scheduler = lr_scheduler.CosineAnnealingLR(optimizer, config.epochs)\n",
        "\n",
        "    best_acc = 0.0\n",
        "    for epoch in range(config.epochs):\n",
        "        model.train()\n",
        "        for images, labels in train_loader:\n",
        "            images, labels = images.to(config.device), labels.to(config.device)\n",
        "\n",
        "            optimizer.zero_grad()\n",
        "            logits = model(images)\n",
        "            loss = F.cross_entropy(logits, labels)\n",
        "            loss.backward()\n",
        "            optimizer.step()\n",
        "\n",
        "        scheduler.step()\n",
        "\n",
        "        accuracy, report, conf_matrix = evaluate_model(model, test_loader, config.device)\n",
        "        if accuracy > best_acc:\n",
        "            best_acc = accuracy\n",
        "            torch.save(model.state_dict(), 'best_lora_model.pth')\n",
        "\n",
        "    return {\n",
        "        'best_accuracy': best_acc,\n",
        "        'final_report': report,\n",
        "        'final_conf_matrix': conf_matrix\n",
        "    }"
      ]
    },
    {
      "cell_type": "markdown",
      "metadata": {
        "id": "YkpbW62GXs1j"
      },
      "source": [
        "## Learning"
      ]
    },
    {
      "cell_type": "code",
      "execution_count": 304,
      "metadata": {
        "colab": {
          "base_uri": "https://localhost:8080/",
          "height": 1000
        },
        "id": "6G-8bmV4Z5mp",
        "outputId": "24b9c1a2-83e7-4548-ac32-58524ae614c5"
      },
      "outputs": [
        {
          "output_type": "stream",
          "name": "stderr",
          "text": [
            "Evaluating: 100%|██████████| 15/15 [00:05<00:00,  2.86it/s]\n"
          ]
        },
        {
          "output_type": "stream",
          "name": "stdout",
          "text": [
            "\n",
            "Results for ZEROSHOT:\n",
            "Best Accuracy: 0.2231\n",
            "\n",
            "Classification Report:\n",
            "              precision    recall  f1-score   support\n",
            "\n",
            "      spring       0.15      0.15      0.15       214\n",
            "      summer       0.21      0.57      0.31       189\n",
            "        fall       0.18      0.01      0.02       266\n",
            "      winter       0.33      0.25      0.29       268\n",
            "\n",
            "    accuracy                           0.22       937\n",
            "   macro avg       0.22      0.24      0.19       937\n",
            "weighted avg       0.22      0.22      0.18       937\n",
            "\n"
          ]
        },
        {
          "output_type": "display_data",
          "data": {
            "text/plain": [
              "<Figure size 1000x800 with 2 Axes>"
            ],
            "image/png": "[encoded data removed]"
          },
          "metadata": {}
        }
      ],
      "source": [
        "config = Config(method='zeroshot')\n",
        "results = run_experiment(config)"
      ]
    },
    {
      "cell_type": "code",
      "execution_count": 305,
      "metadata": {
        "colab": {
          "base_uri": "https://localhost:8080/",
          "height": 1000
        },
        "id": "i63hp9SyZ5kx",
        "outputId": "d5898d90-3ecd-41fa-940d-7203bcc85543"
      },
      "outputs": [
        {
          "output_type": "stream",
          "name": "stderr",
          "text": [
            "Evaluating: 100%|██████████| 15/15 [00:05<00:00,  2.94it/s]\n",
            "Evaluating: 100%|██████████| 15/15 [00:05<00:00,  2.96it/s]\n",
            "Evaluating: 100%|██████████| 15/15 [00:05<00:00,  2.94it/s]\n",
            "Evaluating: 100%|██████████| 15/15 [00:04<00:00,  3.04it/s]\n",
            "Evaluating: 100%|██████████| 15/15 [00:05<00:00,  2.87it/s]\n",
            "Evaluating: 100%|██████████| 15/15 [00:05<00:00,  2.95it/s]\n",
            "Evaluating: 100%|██████████| 15/15 [00:05<00:00,  2.88it/s]\n",
            "Evaluating: 100%|██████████| 15/15 [00:05<00:00,  2.83it/s]\n",
            "Evaluating: 100%|██████████| 15/15 [00:05<00:00,  2.94it/s]\n",
            "Evaluating: 100%|██████████| 15/15 [00:05<00:00,  2.76it/s]\n"
          ]
        },
        {
          "output_type": "stream",
          "name": "stdout",
          "text": [
            "\n",
            "Results for FINETUNE:\n",
            "Best Accuracy: 0.5422\n",
            "\n",
            "Classification Report:\n",
            "              precision    recall  f1-score   support\n",
            "\n",
            "      spring       0.48      0.46      0.47       214\n",
            "      summer       0.48      0.50      0.49       189\n",
            "        fall       0.52      0.47      0.50       266\n",
            "      winter       0.59      0.65      0.62       268\n",
            "\n",
            "    accuracy                           0.53       937\n",
            "   macro avg       0.52      0.52      0.52       937\n",
            "weighted avg       0.52      0.53      0.52       937\n",
            "\n"
          ]
        },
        {
          "output_type": "display_data",
          "data": {
            "text/plain": [
              "<Figure size 1000x800 with 2 Axes>"
            ],
            "image/png": "[encoded data removed]"
          },
          "metadata": {}
        }
      ],
      "source": [
        "config = Config(method='finetune')\n",
        "results = run_experiment(config)"
      ]
    },
    {
      "cell_type": "code",
      "execution_count": 306,
      "metadata": {
        "colab": {
          "base_uri": "https://localhost:8080/",
          "height": 1000
        },
        "id": "V1mwlAL1Z5ik",
        "outputId": "b9d3b283-c7d6-4f4c-8370-3c67c906dc85"
      },
      "outputs": [
        {
          "output_type": "stream",
          "name": "stderr",
          "text": [
            "Evaluating: 100%|██████████| 15/15 [00:05<00:00,  2.94it/s]\n",
            "Evaluating: 100%|██████████| 15/15 [00:04<00:00,  3.01it/s]\n",
            "Evaluating: 100%|██████████| 15/15 [00:05<00:00,  2.82it/s]\n",
            "Evaluating: 100%|██████████| 15/15 [00:05<00:00,  2.93it/s]\n",
            "Evaluating: 100%|██████████| 15/15 [00:05<00:00,  2.75it/s]\n",
            "Evaluating: 100%|██████████| 15/15 [00:04<00:00,  3.03it/s]\n",
            "Evaluating: 100%|██████████| 15/15 [00:05<00:00,  2.83it/s]\n",
            "Evaluating: 100%|██████████| 15/15 [00:05<00:00,  2.86it/s]\n",
            "Evaluating: 100%|██████████| 15/15 [00:05<00:00,  2.91it/s]\n",
            "Evaluating: 100%|██████████| 15/15 [00:05<00:00,  2.75it/s]\n"
          ]
        },
        {
          "output_type": "stream",
          "name": "stdout",
          "text": [
            "\n",
            "Results for COCOOP:\n",
            "Best Accuracy: 0.2199\n",
            "\n",
            "Classification Report:\n",
            "              precision    recall  f1-score   support\n",
            "\n",
            "      spring       0.18      0.27      0.22       214\n",
            "      summer       0.21      0.47      0.29       189\n",
            "        fall       0.00      0.00      0.00       266\n",
            "      winter       0.31      0.23      0.26       268\n",
            "\n",
            "    accuracy                           0.22       937\n",
            "   macro avg       0.18      0.24      0.19       937\n",
            "weighted avg       0.17      0.22      0.18       937\n",
            "\n"
          ]
        },
        {
          "output_type": "display_data",
          "data": {
            "text/plain": [
              "<Figure size 1000x800 with 2 Axes>"
            ],
            "image/png": "[encoded data removed]"
          },
          "metadata": {}
        }
      ],
      "source": [
        "config = Config(method='cocoop')\n",
        "results = run_experiment(config)"
      ]
    },
    {
      "cell_type": "code",
      "execution_count": 309,
      "metadata": {
        "colab": {
          "base_uri": "https://localhost:8080/",
          "height": 1000
        },
        "id": "Qzq0d6BAZ5gY",
        "outputId": "eaa95d47-ade4-4cba-9199-4b1100680c53"
      },
      "outputs": [
        {
          "output_type": "stream",
          "name": "stdout",
          "text": [
            "Looking for data in: /content/drive/Othercomputers/내 노트북/personal-color-data/\n",
            "Checking directory: /content/drive/Othercomputers/내 노트북/personal-color-data/train/spring\n",
            "Checking directory: /content/drive/Othercomputers/내 노트북/personal-color-data/train/summer\n",
            "Checking directory: /content/drive/Othercomputers/내 노트북/personal-color-data/train/fall\n",
            "Checking directory: /content/drive/Othercomputers/내 노트북/personal-color-data/train/winter\n",
            "Checking directory: /content/drive/Othercomputers/내 노트북/personal-color-data/test/spring\n",
            "Checking directory: /content/drive/Othercomputers/내 노트북/personal-color-data/test/summer\n",
            "Checking directory: /content/drive/Othercomputers/내 노트북/personal-color-data/test/fall\n",
            "Checking directory: /content/drive/Othercomputers/내 노트북/personal-color-data/test/winter\n",
            "Found 5127 training images\n",
            "Found 937 test images\n"
          ]
        },
        {
          "output_type": "stream",
          "name": "stderr",
          "text": [
            "Evaluating: 100%|██████████| 15/15 [00:05<00:00,  2.88it/s]\n",
            "Evaluating: 100%|██████████| 15/15 [00:05<00:00,  2.79it/s]\n",
            "Evaluating: 100%|██████████| 15/15 [00:05<00:00,  2.89it/s]\n",
            "Evaluating: 100%|██████████| 15/15 [00:05<00:00,  2.80it/s]\n",
            "Evaluating: 100%|██████████| 15/15 [00:05<00:00,  2.77it/s]\n",
            "Evaluating: 100%|██████████| 15/15 [00:05<00:00,  2.85it/s]\n",
            "Evaluating: 100%|██████████| 15/15 [00:05<00:00,  2.90it/s]\n",
            "Evaluating: 100%|██████████| 15/15 [00:05<00:00,  2.80it/s]\n",
            "Evaluating: 100%|██████████| 15/15 [00:05<00:00,  2.80it/s]\n",
            "Evaluating: 100%|██████████| 15/15 [00:05<00:00,  2.73it/s]\n"
          ]
        },
        {
          "output_type": "stream",
          "name": "stdout",
          "text": [
            "\n",
            "Results for PTUNING:\n",
            "Best Accuracy: 0.4578\n",
            "\n",
            "Classification Report:\n",
            "              precision    recall  f1-score   support\n",
            "\n",
            "      spring       0.42      0.32      0.36       214\n",
            "      summer       0.41      0.62      0.50       189\n",
            "        fall       0.44      0.64      0.53       266\n",
            "      winter       0.69      0.26      0.38       268\n",
            "\n",
            "    accuracy                           0.46       937\n",
            "   macro avg       0.49      0.46      0.44       937\n",
            "weighted avg       0.50      0.46      0.44       937\n",
            "\n"
          ]
        },
        {
          "output_type": "display_data",
          "data": {
            "text/plain": [
              "<Figure size 1000x800 with 2 Axes>"
            ],
            "image/png": "[encoded data removed]"
          },
          "metadata": {}
        }
      ],
      "source": [
        "config = Config(method='ptuning')\n",
        "results = run_experiment(config)"
      ]
    },
    {
      "cell_type": "code",
      "execution_count": 316,
      "metadata": {
        "colab": {
          "base_uri": "https://localhost:8080/",
          "height": 1000
        },
        "id": "91f5nj-pXul3",
        "outputId": "434ff866-dc90-4d93-988c-09e5a9164d05"
      },
      "outputs": [
        {
          "output_type": "stream",
          "name": "stdout",
          "text": [
            "Looking for data in: /content/drive/Othercomputers/내 노트북/personal-color-data/\n",
            "Checking directory: /content/drive/Othercomputers/내 노트북/personal-color-data/train/spring\n",
            "Checking directory: /content/drive/Othercomputers/내 노트북/personal-color-data/train/summer\n",
            "Checking directory: /content/drive/Othercomputers/내 노트북/personal-color-data/train/fall\n",
            "Checking directory: /content/drive/Othercomputers/내 노트북/personal-color-data/train/winter\n",
            "Checking directory: /content/drive/Othercomputers/내 노트북/personal-color-data/test/spring\n",
            "Checking directory: /content/drive/Othercomputers/내 노트북/personal-color-data/test/summer\n",
            "Checking directory: /content/drive/Othercomputers/내 노트북/personal-color-data/test/fall\n",
            "Checking directory: /content/drive/Othercomputers/내 노트북/personal-color-data/test/winter\n",
            "Found 5127 training images\n",
            "Found 937 test images\n"
          ]
        },
        {
          "output_type": "stream",
          "name": "stderr",
          "text": [
            "Evaluating: 100%|██████████| 15/15 [00:05<00:00,  2.76it/s]\n",
            "Evaluating: 100%|██████████| 15/15 [00:05<00:00,  2.83it/s]\n",
            "Evaluating: 100%|██████████| 15/15 [00:05<00:00,  2.90it/s]\n",
            "Evaluating: 100%|██████████| 15/15 [00:05<00:00,  2.78it/s]\n",
            "Evaluating: 100%|██████████| 15/15 [00:05<00:00,  2.86it/s]\n",
            "Evaluating: 100%|██████████| 15/15 [00:05<00:00,  2.91it/s]\n",
            "Evaluating: 100%|██████████| 15/15 [00:05<00:00,  2.72it/s]\n",
            "Evaluating: 100%|██████████| 15/15 [00:05<00:00,  2.77it/s]\n",
            "Evaluating: 100%|██████████| 15/15 [00:05<00:00,  2.71it/s]\n",
            "Evaluating: 100%|██████████| 15/15 [00:05<00:00,  2.79it/s]\n"
          ]
        },
        {
          "output_type": "stream",
          "name": "stdout",
          "text": [
            "\n",
            "Results for LORA:\n",
            "Best Accuracy: 0.4034\n",
            "\n",
            "Classification Report:\n",
            "              precision    recall  f1-score   support\n",
            "\n",
            "      spring       0.33      0.15      0.21       214\n",
            "      summer       0.35      0.59      0.44       189\n",
            "        fall       0.40      0.33      0.36       266\n",
            "      winter       0.48      0.54      0.51       268\n",
            "\n",
            "    accuracy                           0.40       937\n",
            "   macro avg       0.39      0.40      0.38       937\n",
            "weighted avg       0.40      0.40      0.38       937\n",
            "\n"
          ]
        },
        {
          "output_type": "display_data",
          "data": {
            "text/plain": [
              "<Figure size 1000x800 with 2 Axes>"
            ],
            "image/png": "[encoded data removed]"
          },
          "metadata": {}
        }
      ],
      "source": [
        "config = Config(method='lora')\n",
        "results = run_experiment(config)"
      ]
    }
  ],
  "metadata": {
    "accelerator": "GPU",
    "colab": {
      "gpuType": "A100",
      "machine_shape": "hm",
      "provenance": []
    },
    "kernelspec": {
      "display_name": "Python 3",
      "name": "python3"
    },
    "language_info": {
      "name": "python"
    }
  },
  "nbformat": 4,
  "nbformat_minor": 0
}